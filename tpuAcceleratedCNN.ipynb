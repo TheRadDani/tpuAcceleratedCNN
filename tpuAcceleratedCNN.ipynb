{
  "nbformat": 4,
  "nbformat_minor": 0,
  "metadata": {
    "colab": {
      "provenance": [],
      "authorship_tag": "ABX9TyPipDB6A7rwjQu+7vtPqtXJ",
      "include_colab_link": true
    },
    "kernelspec": {
      "name": "python3",
      "display_name": "Python 3"
    },
    "language_info": {
      "name": "python"
    },
    "accelerator": "TPU",
    "gpuClass": "standard"
  },
  "cells": [
    {
      "cell_type": "markdown",
      "metadata": {
        "id": "view-in-github",
        "colab_type": "text"
      },
      "source": [
        "<a href=\"https://colab.research.google.com/github/TheRadDani/tpuAcceleratedCNN/blob/main/tpuAcceleratedCNN.ipynb\" target=\"_parent\"><img src=\"https://colab.research.google.com/assets/colab-badge.svg\" alt=\"Open In Colab\"/></a>"
      ]
    },
    {
      "cell_type": "code",
      "source": [
        "import tensorflow as tf"
      ],
      "metadata": {
        "id": "q5yHBJlDMP7l"
      },
      "execution_count": 1,
      "outputs": []
    },
    {
      "cell_type": "code",
      "source": [
        "tf.keras.backend.clear_session()"
      ],
      "metadata": {
        "id": "6qUdKFHmjIEH"
      },
      "execution_count": 2,
      "outputs": []
    },
    {
      "cell_type": "markdown",
      "source": [
        "List of physical devices"
      ],
      "metadata": {
        "id": "RvOTVaQNbkQg"
      }
    },
    {
      "cell_type": "code",
      "source": [
        "tf.config.experimental.list_physical_devices()"
      ],
      "metadata": {
        "colab": {
          "base_uri": "https://localhost:8080/"
        },
        "id": "5T5UH-PbeFzh",
        "outputId": "a2ca2117-be94-4fe6-d98e-adcfdbb7447d"
      },
      "execution_count": 3,
      "outputs": [
        {
          "output_type": "execute_result",
          "data": {
            "text/plain": [
              "[PhysicalDevice(name='/physical_device:CPU:0', device_type='CPU')]"
            ]
          },
          "metadata": {},
          "execution_count": 3
        }
      ]
    },
    {
      "cell_type": "markdown",
      "source": [
        "Display TPU device if connected"
      ],
      "metadata": {
        "id": "tE-8J3H3iNIn"
      }
    },
    {
      "cell_type": "code",
      "source": [
        "import os\n",
        "\n",
        "if 'COLAB_TPU_ADDR' in os.environ:\n",
        "  tpu_address = 'grpc://' + os.environ['COLAB_TPU_ADDR']\n",
        "  print('TPU address is', tpu_address)\n",
        "else:\n",
        "  print('Not connected to a TPU runtime.')"
      ],
      "metadata": {
        "colab": {
          "base_uri": "https://localhost:8080/"
        },
        "id": "A8JZ0WhliKNu",
        "outputId": "bf55ffb9-c354-4a92-8f59-8389bde35500"
      },
      "execution_count": 4,
      "outputs": [
        {
          "output_type": "stream",
          "name": "stdout",
          "text": [
            "TPU address is grpc://10.32.69.2:8470\n"
          ]
        }
      ]
    },
    {
      "cell_type": "markdown",
      "source": [
        "Load and preprocess data to train the model"
      ],
      "metadata": {
        "id": "_hEEp8D0XXh6"
      }
    },
    {
      "cell_type": "code",
      "source": [
        "from tensorflow.keras.preprocessing.image import ImageDataGenerator\n",
        "\n",
        "# Define data generator for augmentation\n",
        "data_generator = ImageDataGenerator(\n",
        "        rotation_range=10,\n",
        "        zoom_range=0.1,\n",
        "        width_shift_range=0.1,\n",
        "        height_shift_range=0.1,\n",
        "        shear_range=0.1,\n",
        "        horizontal_flip=False,\n",
        "        vertical_flip=False)\n",
        "\n",
        "# Load data\n",
        "(x_train, y_train), (x_test, y_test) = tf.keras.datasets.mnist.load_data()\n",
        "\n",
        "# Preprocess data\n",
        "x_train = x_train.reshape((60000, 28, 28, 1)).astype('float32') / 255.0\n",
        "x_test = x_test.reshape((10000, 28, 28, 1)).astype('float32') / 255.0\n",
        "\n",
        "# Define batch size and number of classes\n",
        "batch_size = 128\n",
        "num_classes = 10\n",
        "\n",
        "# Fit data generator to training data\n",
        "data_generator.fit(x_train)\n",
        "\n",
        "# Create TPU strategy\n",
        "if 'COLAB_TPU_ADDR' in os.environ:\n",
        "  tpu = tf.distribute.cluster_resolver.TPUClusterResolver.connect(tpu_address)\n",
        "  tf.config.experimental_connect_to_cluster(tpu)\n",
        "  tf.tpu.experimental.initialize_tpu_system(tpu)\n",
        "  strategy = tf.distribute.TPUStrategy(tpu)\n",
        "\n",
        "global_batch_size = batch_size * strategy.num_replicas_in_sync\n",
        "\n",
        "# Create augmented datasets\n",
        "train_augmented = data_generator.flow(x_train, y_train, batch_size=global_batch_size)\n",
        "test_augmented = data_generator.flow(x_test, y_test, batch_size=global_batch_size)\n",
        "\n",
        "# Wrap generators in tf.data.Dataset objects and apply map function\n",
        "train_dataset = tf.data.Dataset.from_generator(lambda: train_augmented,\n",
        "                 output_types=(tf.float32, tf.int32),\n",
        "                 output_shapes=([28, 28], [global_batch_size]))\n",
        "test_dataset = tf.data.Dataset.from_generator(lambda: test_augmented,\n",
        "                 output_types=(tf.float32, tf.int32),\n",
        "                 output_shapes=([28, 28], [global_batch_size]))\n",
        "\n",
        "train_dataset = train_dataset.shuffle(1024).prefetch(tf.data.AUTOTUNE)\n",
        "test_dataset = test_dataset.shuffle(1024)\n",
        "\n",
        "# Configure datasets for distributed training\n",
        "train_dataset = train_dataset.batch(global_batch_size).repeat()\n",
        "test_dataset = test_dataset.batch(global_batch_size).repeat()"
      ],
      "metadata": {
        "colab": {
          "base_uri": "https://localhost:8080/"
        },
        "id": "cFEInJvKXjBT",
        "outputId": "b57a3203-7f41-4685-fff8-5c6173e0c3a0"
      },
      "execution_count": 32,
      "outputs": [
        {
          "output_type": "stream",
          "name": "stderr",
          "text": [
            "WARNING:tensorflow:TPU system grpc://10.32.69.2:8470 has already been initialized. Reinitializing the TPU can cause previously created variables on TPU to be lost.\n",
            "WARNING:tensorflow:TPU system grpc://10.32.69.2:8470 has already been initialized. Reinitializing the TPU can cause previously created variables on TPU to be lost.\n"
          ]
        }
      ]
    },
    {
      "cell_type": "markdown",
      "source": [
        "Visualize data"
      ],
      "metadata": {
        "id": "wxAZdZ15tHjV"
      }
    },
    {
      "cell_type": "code",
      "source": [
        "import matplotlib.pyplot as plt\n",
        "import numpy as np\n",
        "plt.imshow(x_train[np.random.randint(x_train.shape[0])+1])\n",
        "plt.show()"
      ],
      "metadata": {
        "colab": {
          "base_uri": "https://localhost:8080/",
          "height": 430
        },
        "id": "Q50k5GEwtI-H",
        "outputId": "a853ca06-8c98-4071-990e-ff2502140383"
      },
      "execution_count": 25,
      "outputs": [
        {
          "output_type": "display_data",
          "data": {
            "text/plain": [
              "<Figure size 640x480 with 1 Axes>"
            ],
            "image/png": "[encoded data removed]"
          },
          "metadata": {}
        }
      ]
    },
    {
      "cell_type": "code",
      "execution_count": 33,
      "metadata": {
        "colab": {
          "base_uri": "https://localhost:8080/",
          "height": 1000
        },
        "id": "YYN0zltuIB3Q",
        "outputId": "d1d16526-d39b-4b40-a57d-16ee877abe67"
      },
      "outputs": [
        {
          "output_type": "stream",
          "name": "stderr",
          "text": [
            "WARNING:tensorflow:TPU system grpc://10.32.69.2:8470 has already been initialized. Reinitializing the TPU can cause previously created variables on TPU to be lost.\n"
          ]
        },
        {
          "output_type": "stream",
          "name": "stdout",
          "text": [
            "Epoch 1/10\n"
          ]
        },
        {
          "output_type": "stream",
          "name": "stderr",
          "text": [
            "WARNING:tensorflow:Your input ran out of data; interrupting training. Make sure that your dataset or generator can generate at least `steps_per_epoch * epochs` batches (in this case, 4680 batches). You may need to use the repeat() function when building your dataset.\n"
          ]
        },
        {
          "output_type": "error",
          "ename": "OutOfRangeError",
          "evalue": "ignored",
          "traceback": [
            "\u001b[0;31m---------------------------------------------------------------------------\u001b[0m",
            "\u001b[0;31mOutOfRangeError\u001b[0m                           Traceback (most recent call last)",
            "\u001b[0;32m<ipython-input-33-41389286996a>\u001b[0m in \u001b[0;36m<cell line: 38>\u001b[0;34m()\u001b[0m\n\u001b[1;32m     54\u001b[0m         \u001b[0;32mreturn\u001b[0m \u001b[0;34m{\u001b[0m\u001b[0mm\u001b[0m\u001b[0;34m.\u001b[0m\u001b[0mname\u001b[0m\u001b[0;34m:\u001b[0m \u001b[0mm\u001b[0m\u001b[0;34m.\u001b[0m\u001b[0mresult\u001b[0m\u001b[0;34m(\u001b[0m\u001b[0;34m)\u001b[0m \u001b[0;32mfor\u001b[0m \u001b[0mm\u001b[0m \u001b[0;32min\u001b[0m \u001b[0mmodel\u001b[0m\u001b[0;34m.\u001b[0m\u001b[0mmetrics\u001b[0m\u001b[0;34m}\u001b[0m\u001b[0;34m\u001b[0m\u001b[0;34m\u001b[0m\u001b[0m\n\u001b[1;32m     55\u001b[0m \u001b[0;34m\u001b[0m\u001b[0m\n\u001b[0;32m---> 56\u001b[0;31m     history = model.fit(train_dataset.repeat(), \n\u001b[0m\u001b[1;32m     57\u001b[0m                         \u001b[0mepochs\u001b[0m\u001b[0;34m=\u001b[0m\u001b[0mepochs\u001b[0m\u001b[0;34m,\u001b[0m\u001b[0;34m\u001b[0m\u001b[0;34m\u001b[0m\u001b[0m\n\u001b[1;32m     58\u001b[0m                         \u001b[0mvalidation_data\u001b[0m\u001b[0;34m=\u001b[0m\u001b[0mtest_dataset\u001b[0m\u001b[0;34m.\u001b[0m\u001b[0mrepeat\u001b[0m\u001b[0;34m(\u001b[0m\u001b[0;34m)\u001b[0m\u001b[0;34m,\u001b[0m\u001b[0;34m\u001b[0m\u001b[0;34m\u001b[0m\u001b[0m\n",
            "\u001b[0;32m/usr/local/lib/python3.9/dist-packages/keras/utils/traceback_utils.py\u001b[0m in \u001b[0;36merror_handler\u001b[0;34m(*args, **kwargs)\u001b[0m\n\u001b[1;32m     68\u001b[0m             \u001b[0;31m# To get the full stack trace, call:\u001b[0m\u001b[0;34m\u001b[0m\u001b[0;34m\u001b[0m\u001b[0m\n\u001b[1;32m     69\u001b[0m             \u001b[0;31m# `tf.debugging.disable_traceback_filtering()`\u001b[0m\u001b[0;34m\u001b[0m\u001b[0;34m\u001b[0m\u001b[0m\n\u001b[0;32m---> 70\u001b[0;31m             \u001b[0;32mraise\u001b[0m \u001b[0me\u001b[0m\u001b[0;34m.\u001b[0m\u001b[0mwith_traceback\u001b[0m\u001b[0;34m(\u001b[0m\u001b[0mfiltered_tb\u001b[0m\u001b[0;34m)\u001b[0m \u001b[0;32mfrom\u001b[0m \u001b[0;32mNone\u001b[0m\u001b[0;34m\u001b[0m\u001b[0;34m\u001b[0m\u001b[0m\n\u001b[0m\u001b[1;32m     71\u001b[0m         \u001b[0;32mfinally\u001b[0m\u001b[0;34m:\u001b[0m\u001b[0;34m\u001b[0m\u001b[0;34m\u001b[0m\u001b[0m\n\u001b[1;32m     72\u001b[0m             \u001b[0;32mdel\u001b[0m \u001b[0mfiltered_tb\u001b[0m\u001b[0;34m\u001b[0m\u001b[0;34m\u001b[0m\u001b[0m\n",
            "\u001b[0;32m/usr/local/lib/python3.9/dist-packages/tensorflow/python/framework/ops.py\u001b[0m in \u001b[0;36m_numpy\u001b[0;34m(self)\u001b[0m\n\u001b[1;32m   1126\u001b[0m       \u001b[0;32mreturn\u001b[0m \u001b[0mself\u001b[0m\u001b[0;34m.\u001b[0m\u001b[0m_numpy_internal\u001b[0m\u001b[0;34m(\u001b[0m\u001b[0;34m)\u001b[0m\u001b[0;34m\u001b[0m\u001b[0;34m\u001b[0m\u001b[0m\n\u001b[1;32m   1127\u001b[0m     \u001b[0;32mexcept\u001b[0m \u001b[0mcore\u001b[0m\u001b[0;34m.\u001b[0m\u001b[0m_NotOkStatusException\u001b[0m \u001b[0;32mas\u001b[0m \u001b[0me\u001b[0m\u001b[0;34m:\u001b[0m  \u001b[0;31m# pylint: disable=protected-access\u001b[0m\u001b[0;34m\u001b[0m\u001b[0;34m\u001b[0m\u001b[0m\n\u001b[0;32m-> 1128\u001b[0;31m       \u001b[0;32mraise\u001b[0m \u001b[0mcore\u001b[0m\u001b[0;34m.\u001b[0m\u001b[0m_status_to_exception\u001b[0m\u001b[0;34m(\u001b[0m\u001b[0me\u001b[0m\u001b[0;34m)\u001b[0m \u001b[0;32mfrom\u001b[0m \u001b[0;32mNone\u001b[0m  \u001b[0;31m# pylint: disable=protected-access\u001b[0m\u001b[0;34m\u001b[0m\u001b[0;34m\u001b[0m\u001b[0m\n\u001b[0m\u001b[1;32m   1129\u001b[0m \u001b[0;34m\u001b[0m\u001b[0m\n\u001b[1;32m   1130\u001b[0m   \u001b[0;34m@\u001b[0m\u001b[0mproperty\u001b[0m\u001b[0;34m\u001b[0m\u001b[0;34m\u001b[0m\u001b[0m\n",
            "\u001b[0;31mOutOfRangeError\u001b[0m: 9 root error(s) found.\n  (0) OUT_OF_RANGE: {{function_node __inference_train_function_17150}} End of sequence\n\t [[{{node IteratorGetNext_6}}]]\n  (1) OUT_OF_RANGE: {{function_node __inference_train_function_17150}} End of sequence\n\t [[{{node IteratorGetNext_5}}]]\n  (2) OUT_OF_RANGE: {{function_node __inference_train_function_17150}} End of sequence\n\t [[{{node IteratorGetNext_2}}]]\n  (3) INTERNAL: {{function_node __inference_train_function_17150}} failed to connect to all addresses; last error: UNKNOWN: ipv4:127.0.0.1:39291: Failed to connect to remote host: Connection refused\nAdditional GRPC error information from remote target /job:localhost/replica:0/task:0/device:CPU:0:\n:UNKNOWN:failed to connect to all addresses; last error: UNKNOWN: ipv4:127.0.0.1:39291: Failed to connect to remote host: Connection refused {grpc_status:14, created_time:\"2023-04-12T20:33:44.574912328+00:00\"}\n\t [[{{node MultiDeviceIteratorGetNextFromShard}}]]\nExecuting non-communication op <MultiDeviceIteratorGetNextFromShard> originally returned UnavailableError, and was replaced by InternalError to avoid invoking TF network error handling logic.\n\t [[RemoteCall]]\n\t [[IteratorGetNext]]\n\t [[TPUReplicate/_compile/_15603037385345176574/_4/_156]]\n  (4) INTERNAL: {{function_node __inference_train_function_17150}} failed to connect to all addresses; last error: UNKNOWN: ipv4:127.0.0.1:39291: Failed to connect to remote host: Connection refused\nAdditional GRPC error information from remote target /job:localhost/replica:0/task:0/device:CPU:0:\n:UNKNOWN:failed to connect to all addresses; last error: UNKNOWN: ipv4:127.0.0.1:39291: Failed to connect to remote host: Connection refused {grpc_status:14, created_time:\"2023-04-12T20:33:44.574912328+00:00\"}\n\t [[{{node MultiDeviceIteratorGetNextFromShard}}]]\nExecuting non-communication op <MultiDeviceIteratorGetNextFromShard> originally returned UnavailableError, and was replaced by InternalError to avoid invoking TF network error handling logic.\n\t [[RemoteCall]]\n\t [[IteratorGetNext]]\n\t [[Pad_9/_102]]\n  (5) INTERNAL: {{function_node __inference_train_function_17150}} failed to connect to all addresses; last error: UNKNOWN: ipv4:127.0.0.1:39291: Failed to connect to remote host: Connection refused\nAdditional GRPC error information from remote target /job:localhost/replica:0/task:0/device:CPU:0:\n:UNKNOWN:failed to connect to all addresses; last error: UNKNOWN: ipv4:127.0.0.1:39291: Failed to connect to remote host: Connection refused {grpc_status:14, created_time:\"2023-04-12T20:33:44.574912328+00:00\"}\n\t [[{{node MultiDeviceIteratorGetNextFromShard}}]]\nExecuting non-communication op <MultiDeviceIteratorGetNextFromShard> originally returned UnavailableError, and was replaced by InternalError to avoid invoking TF network error handling logic.\n\t [[RemoteCall]]\n\t [[IteratorGetNext]]\n\t [[Pad_7/_86]]\n  (6) INTERNAL: {{function_node __inference_train_function_17150}} failed to connect to all addresses; last error: UNKNOWN: ipv4:127.0.0.1:39291: Failed to connect to remote host: Connection refused\nAdditional GRPC error informa ... [truncated]"
          ]
        }
      ],
      "source": [
        "from tensorflow.keras import layers\n",
        "from tensorflow.keras.callbacks import EarlyStopping\n",
        "# Define the early stopping callback\n",
        "early_stop = EarlyStopping(monitor='val_loss', patience=3)\n",
        "\n",
        "# connect to TPU\n",
        "tpu = tf.distribute.cluster_resolver.TPUClusterResolver(tpu_address)\n",
        "tf.config.experimental_connect_to_cluster(tpu)\n",
        "tf.tpu.experimental.initialize_tpu_system(tpu)\n",
        "\n",
        "# distribute the dataset and model\n",
        "strategy = tf.distribute.TPUStrategy(tpu)\n",
        "\n",
        "# Define model\n",
        "with strategy.scope():\n",
        "    model = tf.keras.Sequential([\n",
        "        layers.Conv2D(32, (3, 3), activation='relu', padding='same', input_shape=(28, 28, 1)),\n",
        "        #batch normalization layer to speed up trainig\n",
        "        layers.BatchNormalization(),\n",
        "        layers.Conv2D(32, (3, 3), activation='relu', padding='same'),\n",
        "        layers.MaxPooling2D((2, 2)),\n",
        "        layers.Dropout(0.25),\n",
        "\n",
        "        layers.Conv2D(64, (3, 3), activation='relu', padding='same'),\n",
        "        layers.Conv2D(64, (3, 3), activation='relu', padding='same'),\n",
        "        layers.MaxPooling2D((2, 2)),\n",
        "        layers.Dropout(0.25),\n",
        "\n",
        "        layers.Flatten(),\n",
        "        layers.Dense(512, activation='relu'),\n",
        "        layers.Dropout(0.5),\n",
        "        layers.Dense(10, activation='softmax')\n",
        "    ])\n",
        "    model.compile(optimizer='adam', loss='sparse_categorical_crossentropy', metrics=['accuracy'])\n",
        "\n",
        "# Train model\n",
        "epochs = 10\n",
        "with strategy.scope():\n",
        "    @tf.function\n",
        "    def train_step(x, y):\n",
        "        with tf.GradientTape() as tape:\n",
        "            pred = model(x)\n",
        "            loss = model.compiled_loss(y, pred)\n",
        "        grads = tape.gradient(loss, model.trainable_variables)\n",
        "        model.optimizer.apply_gradients(zip(grads, model.trainable_variables))\n",
        "        model.compiled_metrics.update_state(y, pred)\n",
        "        return {m.name: m.result() for m in model.metrics}\n",
        "    \n",
        "    @tf.function\n",
        "    def test_step(x, y):\n",
        "        pred = model(x)\n",
        "        loss = model.compiled_loss(y, pred)\n",
        "        model.compiled_metrics.update_state(y, pred)\n",
        "        return {m.name: m.result() for m in model.metrics}\n",
        "    \n",
        "    history = model.fit(train_dataset.repeat(), \n",
        "                        epochs=epochs, \n",
        "                        validation_data=test_dataset.repeat(),\n",
        "                        callbacks=[early_stop],  # Pass the early stopping callback to the fit method\n",
        "                        verbose=2,\n",
        "                        steps_per_epoch=len(x_train)//batch_size,\n",
        "                        validation_steps=len(x_test)//batch_size,\n",
        "                        )  # repeat the datasets indefinitely to avoid \"Unknown shape\" errors"
      ]
    },
    {
      "cell_type": "markdown",
      "source": [
        "train dataset batch"
      ],
      "metadata": {
        "id": "zrgL1xhgUudy"
      }
    },
    {
      "cell_type": "code",
      "source": [
        "# Get the number of elements\n",
        "num_batches = train_dataset.cardinality().numpy()\n",
        "num_elements = num_batches * batch_size\n",
        "print(\"Number of elements: \", num_elements)"
      ],
      "metadata": {
        "colab": {
          "base_uri": "https://localhost:8080/"
        },
        "id": "1_VvpoPwRcRt",
        "outputId": "0de124a9-c48d-41f9-bf47-e2c0b08e00a7"
      },
      "execution_count": 17,
      "outputs": [
        {
          "output_type": "stream",
          "name": "stdout",
          "text": [
            "Number of elements:  60032\n"
          ]
        }
      ]
    },
    {
      "cell_type": "markdown",
      "source": [
        "test dataset batch"
      ],
      "metadata": {
        "id": "FigcbJZrUsCT"
      }
    },
    {
      "cell_type": "code",
      "source": [
        "# Get the number of elements\n",
        "num_batches = test_dataset.cardinality().numpy()\n",
        "num_elements = num_batches * batch_size\n",
        "print(\"Number of elements: \", num_elements)"
      ],
      "metadata": {
        "colab": {
          "base_uri": "https://localhost:8080/"
        },
        "id": "itshReadUoQS",
        "outputId": "874b727b-f187-4ccd-97a3-a91a3240f094"
      },
      "execution_count": 18,
      "outputs": [
        {
          "output_type": "stream",
          "name": "stdout",
          "text": [
            "Number of elements:  10112\n"
          ]
        }
      ]
    },
    {
      "cell_type": "code",
      "source": [
        "import matplotlib.pyplot as plt\n",
        "# Plot the loss and accuracy curves\n",
        "plt.plot(history.history['loss'])\n",
        "plt.plot(history.history['val_loss'])\n",
        "plt.title('Model Loss')\n",
        "plt.ylabel('Loss')\n",
        "plt.xlabel('Epoch')\n",
        "plt.legend(['train', 'val'], loc='upper right')\n",
        "plt.show()\n",
        "\n",
        "plt.plot(history.history['accuracy'])\n",
        "plt.plot(history.history['val_accuracy'])\n",
        "plt.title('Model Accuracy')\n",
        "plt.ylabel('Accuracy')\n",
        "plt.xlabel('Epoch')\n",
        "plt.legend(['train', 'val'], loc='lower right')\n",
        "plt.show()"
      ],
      "metadata": {
        "colab": {
          "base_uri": "https://localhost:8080/",
          "height": 927
        },
        "id": "mD4T5kA5NyZX",
        "outputId": "653da37c-68b3-4a00-ef1c-acedadb4c414"
      },
      "execution_count": 24,
      "outputs": [
        {
          "output_type": "display_data",
          "data": {
            "text/plain": [
              "<Figure size 640x480 with 1 Axes>"
            ],
            "image/png": "[encoded data removed]"
          },
          "metadata": {}
        },
        {
          "output_type": "display_data",
          "data": {
            "text/plain": [
              "<Figure size 640x480 with 1 Axes>"
            ],
            "image/png": "[encoded data removed]"
          },
          "metadata": {}
        }
      ]
    },
    {
      "cell_type": "markdown",
      "source": [
        "Save model in google colab"
      ],
      "metadata": {
        "id": "7UcvlMP6WCcA"
      }
    },
    {
      "cell_type": "code",
      "source": [
        "from google.colab import drive\n",
        "drive.mount('/content/drive')\n",
        "save_path = '/content/drive/MyDrive/tpu_cnn.h5'\n",
        "model.save('tpu_cnn.h5')"
      ],
      "metadata": {
        "colab": {
          "base_uri": "https://localhost:8080/"
        },
        "id": "LlJX2DCZWElI",
        "outputId": "24f5d7c6-9f7f-4bbf-f224-b77a447a778c"
      },
      "execution_count": 21,
      "outputs": [
        {
          "output_type": "stream",
          "name": "stdout",
          "text": [
            "Mounted at /content/drive\n"
          ]
        }
      ]
    },
    {
      "cell_type": "markdown",
      "source": [
        "Load .h5 model"
      ],
      "metadata": {
        "id": "623l_74iWScA"
      }
    },
    {
      "cell_type": "code",
      "source": [
        "from google.colab import drive\n",
        "drive.mount('/content/drive')\n",
        "load_path = '/content/drive/MyDrive/tpu_cnn.h5'\n",
        "from tensorflow import keras\n",
        "\n",
        "loaded_model = keras.models.load_model(load_path)"
      ],
      "metadata": {
        "colab": {
          "base_uri": "https://localhost:8080/"
        },
        "id": "Wr7sWMz0WULv",
        "outputId": "02335416-b3e4-4ad3-87f2-45780486edc8"
      },
      "execution_count": 4,
      "outputs": [
        {
          "output_type": "stream",
          "name": "stdout",
          "text": [
            "Mounted at /content/drive\n"
          ]
        }
      ]
    },
    {
      "cell_type": "markdown",
      "source": [
        "Data augmentation technique for model inference"
      ],
      "metadata": {
        "id": "gMvRkXYLOvhs"
      }
    },
    {
      "cell_type": "code",
      "source": [
        "from tensorflow.keras.preprocessing.image import ImageDataGenerator\n",
        "# Define data augmentation\n",
        "datagen = ImageDataGenerator(rotation_range=10, width_shift_range=0.1, height_shift_range=0.1, zoom_range=0.1)\n",
        "# Generate new data\n",
        "generated_data = datagen.flow(x_test, y_test, batch_size=128)"
      ],
      "metadata": {
        "id": "35bDvcubOzaA"
      },
      "execution_count": 5,
      "outputs": []
    },
    {
      "cell_type": "markdown",
      "source": [
        "free disc"
      ],
      "metadata": {
        "id": "cGIct3Z1lE13"
      }
    },
    {
      "cell_type": "code",
      "source": [
        "!df -h\n",
        "!free -h"
      ],
      "metadata": {
        "colab": {
          "base_uri": "https://localhost:8080/"
        },
        "id": "RXmiLImwVuOo",
        "outputId": "1fd77901-2f0b-4532-8004-3ff7765ab431"
      },
      "execution_count": 6,
      "outputs": [
        {
          "output_type": "stream",
          "name": "stdout",
          "text": [
            "Filesystem      Size  Used Avail Use% Mounted on\n",
            "overlay         108G   24G   85G  22% /\n",
            "tmpfs            64M     0   64M   0% /dev\n",
            "shm             5.8G     0  5.8G   0% /dev/shm\n",
            "/dev/root       2.0G  1.1G  841M  58% /usr/sbin/docker-init\n",
            "tmpfs           6.4G   80K  6.4G   1% /var/colab\n",
            "/dev/sda1        70G   42G   28G  61% /etc/hosts\n",
            "tmpfs           6.4G     0  6.4G   0% /proc/acpi\n",
            "tmpfs           6.4G     0  6.4G   0% /proc/scsi\n",
            "tmpfs           6.4G     0  6.4G   0% /sys/firmware\n",
            "drive            15G     0   15G   0% /content/drive\n",
            "              total        used        free      shared  buff/cache   available\n",
            "Mem:           12Gi       1.7Gi       6.6Gi       1.0Mi       4.3Gi        10Gi\n",
            "Swap:            0B          0B          0B\n"
          ]
        }
      ]
    },
    {
      "cell_type": "code",
      "source": [
        "predictions = loaded_model.predict(generated_data)\n",
        "\n",
        "# Print the predictions\n",
        "print(predictions)"
      ],
      "metadata": {
        "colab": {
          "base_uri": "https://localhost:8080/"
        },
        "id": "cWNwE26kOTEq",
        "outputId": "31fc3b02-2b0e-428e-fee8-e3dcd1e6c74a"
      },
      "execution_count": 7,
      "outputs": [
        {
          "output_type": "stream",
          "name": "stdout",
          "text": [
            "79/79 [==============================] - 6s 75ms/step\n",
            "[[4.2321167e-07 9.9818171e-05 6.4640739e-03 ... 2.2033567e-03\n",
            "  2.1288784e-05 1.8503843e-02]\n",
            " [4.0419954e-01 4.0958837e-01 1.7499362e-01 ... 6.3384613e-03\n",
            "  3.0770877e-03 4.9830520e-05]\n",
            " [2.9536736e-08 3.4470061e-13 4.5295204e-12 ... 2.2472065e-13\n",
            "  1.3768193e-09 1.0285376e-10]\n",
            " ...\n",
            " [5.6203489e-06 1.2068638e-05 7.1819130e-05 ... 4.3510858e-02\n",
            "  2.6211099e-05 9.5428693e-01]\n",
            " [5.4832462e-06 4.4279193e-05 3.8881744e-06 ... 7.9895242e-04\n",
            "  1.1332231e-02 1.0507224e-01]\n",
            " [8.2162096e-08 6.1935600e-05 1.9988016e-05 ... 4.9123400e-08\n",
            "  3.4230504e-06 8.6421707e-08]]\n"
          ]
        }
      ]
    },
    {
      "cell_type": "code",
      "source": [
        "import numpy as np\n",
        "import matplotlib.pyplot as plt\n",
        "\n",
        "images, labels = next(generated_data) # get the first batch\n",
        "# Define a mapping from label index to label name\n",
        "label_names = [\n",
        "    '0', '1', '2', '3', '4', '5', '6', '7', '8', '9'\n",
        "]\n",
        "# Plot the images and predictions\n",
        "fig, axes = plt.subplots(nrows=1, ncols=5, figsize=(15, 5))\n",
        "for i in range(5):\n",
        "    image = images[i].reshape(28, 28)\n",
        "    label = label_names[labels[i]]\n",
        "    prediction = label_names[np.argmax(predictions[i])]\n",
        "    axes[i].imshow(image, cmap='gray')\n",
        "    axes[i].set_title(f\"Label: {label}\\nPrediction: {prediction}\")\n",
        "plt.show()"
      ],
      "metadata": {
        "colab": {
          "base_uri": "https://localhost:8080/",
          "height": 182
        },
        "id": "zlwuHj5MYUf6",
        "outputId": "a4495fd4-e0ba-4f96-8117-30896db867bf"
      },
      "execution_count": 8,
      "outputs": [
        {
          "output_type": "display_data",
          "data": {
            "text/plain": [
              "<Figure size 1500x500 with 5 Axes>"
            ],
            "image/png": "[encoded data removed]"
          },
          "metadata": {}
        }
      ]
    }
  ]
}